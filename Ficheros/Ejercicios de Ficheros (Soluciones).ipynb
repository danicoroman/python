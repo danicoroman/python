{
 "cells": [
  {
   "cell_type": "markdown",
   "metadata": {},
   "source": [
    "# 7.- Ficheros"
   ]
  },
  {
   "cell_type": "markdown",
   "metadata": {},
   "source": [
    "7.1 Escribe un programa que solicite un nombre de fichero, lo abra, lea y visualice el contenido en mayúsculas. Usa el fichero words.txt para crear la salida que se busca."
   ]
  },
  {
   "cell_type": "code",
   "execution_count": null,
   "metadata": {
    "collapsed": false
   },
   "outputs": [],
   "source": [
    "# pylint: disable = I0011, C0103\n",
    "\n",
    "\"\"\"DocString\n",
    "\"\"\"\n",
    "leyendo = True\n",
    "while leyendo:\n",
    "    try:\n",
    "        fichero = input(\"Nombre de fichero :\")\n",
    "        manejador = open(fichero)\n",
    "        leyendo = False\n",
    "    except IOError:\n",
    "        print(\"El fichero no existe\")\n",
    "for linea in manejador:\n",
    "    print(linea, end=\"\")\n"
   ]
  },
  {
   "cell_type": "markdown",
   "metadata": {},
   "source": [
    "7.2 Escribe un programa que solicite un nombre de fichero, lo abra, lea y busque líneas de la forma:\n",
    "\n",
    "X-DSPAM-Confidence:    0.8475\n",
    "\n",
    "Contar estas líneas y extraer los valores en punto flotante de cada una de ellas para finalmente calcular la media de esos valores y generar una salida como la que se muestra a continuación.\n",
    "Media de correo basura: 0.750718518519\n",
    "No utilizar la función sum() o una variable que se llame sum en la solución.\n",
    "Se puede descargar un fichero con los datos de prueba http://www.pythonlearn.com/code/mbox-short.txt."
   ]
  },
  {
   "cell_type": "code",
   "execution_count": null,
   "metadata": {
    "collapsed": false
   },
   "outputs": [],
   "source": [
    "# pylint: disable = I0011, C0103\n",
    "\n",
    "\"\"\"DocString\n",
    "\"\"\"\n",
    "leyendo = True\n",
    "while leyendo:\n",
    "    try:\n",
    "        fichero = input(\"Nombre de fichero: \")\n",
    "        manejador = open(fichero)\n",
    "        leyendo = False\n",
    "    except IOError:\n",
    "        print(\"El fichero no existe.\")\n",
    "cont = 0\n",
    "total = 0\n",
    "for linea in manejador:\n",
    "    if linea.startswith(\"X-DSPAM-Confidence:\"):\n",
    "        numero = float(linea[linea.find(\" \"):].strip())\n",
    "        cont += 1\n",
    "        total += numero\n",
    "print(\"Media de correo basura: \", total/cont)\n"
   ]
  }
 ],
 "metadata": {
  "anaconda-cloud": {},
  "kernelspec": {
   "display_name": "Python [conda root]",
   "language": "python",
   "name": "conda-root-py"
  },
  "language_info": {
   "codemirror_mode": {
    "name": "ipython",
    "version": 3
   },
   "file_extension": ".py",
   "mimetype": "text/x-python",
   "name": "python",
   "nbconvert_exporter": "python",
   "pygments_lexer": "ipython3",
   "version": "3.5.2"
  }
 },
 "nbformat": 4,
 "nbformat_minor": 1
}
