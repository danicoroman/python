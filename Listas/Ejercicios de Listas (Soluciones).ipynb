{
 "cells": [
  {
   "cell_type": "markdown",
   "metadata": {},
   "source": [
    "<b>Ejercicio 4.-</b> Descargar una copia del archivo \"romeo.txt\" desde http://www.pythonlearn.com/code3/romeo.txt. Escribir un programa para abrir el fichero y leerlo línea a línea. Por cada línea separar las palabras en una lista de palabras usando la función split. Las palabras no deben estar repetidas en la lista. Cuando la lista esté completa, visualizar el resultado en orden alfabético."
   ]
  },
  {
   "cell_type": "code",
   "execution_count": null,
   "metadata": {
    "collapsed": false
   },
   "outputs": [],
   "source": [
    "# pylint: disable = I0011, C0103\n",
    "\n",
    "\"\"\"DocString\n",
    "\"\"\"\n",
    "\n",
    "fhandle = open(\"romeo.txt\")\n",
    "words_list = []\n",
    "for line in fhandle:\n",
    "    words_line = line.split()\n",
    "    for word in words_line:\n",
    "        if word not in words_list:\n",
    "            words_list.append(word)\n",
    "words_list.sort()\n",
    "for word in words_list:\n",
    "    print(word, end=\" \")\n"
   ]
  },
  {
   "cell_type": "markdown",
   "metadata": {},
   "source": [
    "<b>Ejercicio 5.-</b> Escribe un programa que lea del fichero de buzón de correo mbox-short.txt  (http://www.pythonlearn.com/code/mbox-short.txt) y cada vez que se encuentre una línea que empiece por \"From\" separarla en palabras. Interesa quién envió el mensaje (segunda palabra de la línea \"From\") sin la parte del dominio. Es decir, de:\n",
    "\n",
    "From stephen.marquard@uct.ac.za Sat Jan 5 09:14:16 2008\n",
    "\n",
    "mostraremos solo \"stephen.marquard\".\n",
    "\n",
    "El programa debe mostrar la lista de los usuarios ordenada alfabéticamente, sin repetir ninguno y finalizar visualizando el total de líneas encontradas."
   ]
  },
  {
   "cell_type": "code",
   "execution_count": null,
   "metadata": {
    "collapsed": true
   },
   "outputs": [],
   "source": [
    "#pylint: disable = i0011, c0103\n",
    "\n",
    "\"\"\"DocString\n",
    "\"\"\"\n",
    "\n",
    "fhandle = open(\"mbox-short.txt\")\n",
    "users = []\n",
    "lines = 0\n",
    "for line in fhandle:\n",
    "    if line.startswith(\"From\"):\n",
    "        user = line.split()[1].split(\"@\")[0]\n",
    "        lines += 1\n",
    "        if user not in users:\n",
    "            users.append(user)\n",
    "users.sort()\n",
    "for user in users:\n",
    "    print(user, end=\" \")\n",
    "print(\"\\nTotal de líneas From encontradas :\", lines)\n"
   ]
  },
  {
   "cell_type": "markdown",
   "metadata": {},
   "source": [
    "<b>Ejercicio 6.-</B> Reescribir el programa que solicita al usuario una lista de número y muestra el valor máximo y mínimo de entre ellos y acaba con la palabra \"done\". Hacerlo ahora almacenando los números en una lista y hacer uso de la funciones max() y min()."
   ]
  },
  {
   "cell_type": "code",
   "execution_count": null,
   "metadata": {
    "collapsed": false
   },
   "outputs": [],
   "source": [
    "#pylint: disable = i0011, c0103\n",
    "\n",
    "\"\"\"DocString\n",
    "\"\"\"\n",
    "\n",
    "numbers_list = list()\n",
    "done = False\n",
    "while not done:\n",
    "    reading = True\n",
    "    while reading:\n",
    "        string = input('Introduzca un número (\"fin\" para terminar):')\n",
    "        if string == \"fin\":\n",
    "            done = True\n",
    "            break\n",
    "        try:\n",
    "            number = float(string)\n",
    "            reading = False\n",
    "        except IOError:\n",
    "            print(\"Entrada incorrecta, pruebe de nuevo.\")\n",
    "            continue\n",
    "        numbers_list.append(number)\n",
    "print(\"El valor máximo es %.2f y el mínimo %.2f\" % (max(numbers_list), min(numbers_list)))\n"
   ]
  }
 ],
 "metadata": {
  "anaconda-cloud": {},
  "kernelspec": {
   "display_name": "Python [conda root]",
   "language": "python",
   "name": "conda-root-py"
  },
  "language_info": {
   "codemirror_mode": {
    "name": "ipython",
    "version": 3
   },
   "file_extension": ".py",
   "mimetype": "text/x-python",
   "name": "python",
   "nbconvert_exporter": "python",
   "pygments_lexer": "ipython3",
   "version": "3.5.2"
  }
 },
 "nbformat": 4,
 "nbformat_minor": 1
}
